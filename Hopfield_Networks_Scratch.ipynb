{
  "nbformat": 4,
  "nbformat_minor": 0,
  "metadata": {
    "colab": {
      "provenance": []
    },
    "kernelspec": {
      "name": "python3",
      "display_name": "Python 3"
    },
    "language_info": {
      "name": "python"
    }
  },
  "cells": [
    {
      "cell_type": "code",
      "execution_count": 44,
      "metadata": {
        "id": "FKUxGqbM4QKb"
      },
      "outputs": [],
      "source": [
        "import numpy as np\n",
        "\n",
        "epochs = 10\n",
        "\n",
        "class HopfieldNetwork:\n",
        "\n",
        "  def __init__(self, size):\n",
        "    self.size = size\n",
        "    self.weights = np.zeros((size,size))\n",
        "\n",
        "  def train(self, patterns):\n",
        "\n",
        "    for pattern in patterns:\n",
        "\n",
        "      p = pattern.reshape(-1,1) #Into Column Vector\n",
        "\n",
        "      self.weights += np.dot(p, p.T)\n",
        "\n",
        "    np.fill_diagonal(self.weights, 0)\n",
        "\n",
        "  def call(self, inputs, num_iterations = 10):\n",
        "    assert len(inputs) == self.size\n",
        "    current_state = inputs.copy()\n",
        "\n",
        "    for _ in range(num_iterations):\n",
        "\n",
        "      for i in range(self.size):\n",
        "\n",
        "        h = np.dot(self.weights[i], current_state)\n",
        "\n",
        "        current_state[i] = 1 if h>0 else -1\n",
        "\n",
        "      if current_state in patterns:\n",
        "        break\n",
        "\n",
        "    return current_state\n",
        "\n",
        "\n",
        "\n",
        "\n",
        "\n"
      ]
    },
    {
      "cell_type": "code",
      "source": [
        "network = HopfieldNetwork(4)\n",
        "\n",
        "patterns = [[1,1,1,1],\n",
        "            [-1,-1,1,1],]\n",
        "\n",
        "patterns = np.array(patterns)\n",
        "\n",
        "for i in range(epochs):\n",
        "  network.train(patterns)\n",
        "\n",
        "print(network.weights)"
      ],
      "metadata": {
        "colab": {
          "base_uri": "https://localhost:8080/"
        },
        "id": "B--vqiWDArO_",
        "outputId": "916ceb4b-ae50-43cf-a300-7679a63a2b57"
      },
      "execution_count": 45,
      "outputs": [
        {
          "output_type": "stream",
          "name": "stdout",
          "text": [
            "[[ 0. 20.  0.  0.]\n",
            " [20.  0.  0.  0.]\n",
            " [ 0.  0.  0. 20.]\n",
            " [ 0.  0. 20.  0.]]\n"
          ]
        }
      ]
    },
    {
      "cell_type": "code",
      "source": [
        "print(network.call([-1,-1,-1,1]))"
      ],
      "metadata": {
        "colab": {
          "base_uri": "https://localhost:8080/"
        },
        "id": "Hb9RwAlBCakr",
        "outputId": "0daa7af3-a6e8-4f36-cdd9-7d36753576b1"
      },
      "execution_count": 46,
      "outputs": [
        {
          "output_type": "stream",
          "name": "stdout",
          "text": [
            "[-1, -1, 1, 1]\n"
          ]
        }
      ]
    }
  ]
}